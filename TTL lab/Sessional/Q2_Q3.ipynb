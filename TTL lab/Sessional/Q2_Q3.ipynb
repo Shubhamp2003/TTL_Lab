{
 "cells": [
  {
   "cell_type": "code",
   "execution_count": 1,
   "id": "3286809f-37f5-41b5-98e5-f7ec53e91e24",
   "metadata": {},
   "outputs": [],
   "source": [
    "n = 3 \n",
    "p = 2"
   ]
  },
  {
   "cell_type": "code",
   "execution_count": 2,
   "id": "294dc779-49ee-4852-93df-5e0ef1cb4f8c",
   "metadata": {},
   "outputs": [],
   "source": [
    "def test(n,p):\n",
    "    return n**p"
   ]
  },
  {
   "cell_type": "code",
   "execution_count": 3,
   "id": "26fc4c90-2fcf-4d72-996f-f8ca7c3dca6b",
   "metadata": {},
   "outputs": [
    {
     "data": {
      "text/plain": [
       "9"
      ]
     },
     "execution_count": 3,
     "metadata": {},
     "output_type": "execute_result"
    }
   ],
   "source": [
    "test(3,2)"
   ]
  },
  {
   "cell_type": "code",
   "execution_count": 4,
   "id": "6c04dd5a-dc3d-4b2d-96a3-a9bb36c96e90",
   "metadata": {},
   "outputs": [
    {
     "data": {
      "text/plain": [
       "6561"
      ]
     },
     "execution_count": 4,
     "metadata": {},
     "output_type": "execute_result"
    }
   ],
   "source": [
    "test(9,4)"
   ]
  },
  {
   "cell_type": "code",
   "execution_count": 6,
   "id": "10d6fe59-d00b-4ef9-abcd-17c989367f00",
   "metadata": {},
   "outputs": [],
   "source": [
    "##Q2. Write the code in one line by using special functions\n"
   ]
  },
  {
   "cell_type": "code",
   "execution_count": 7,
   "id": "6ef4fd8f-ad84-4aa9-981d-c8ba56fff5eb",
   "metadata": {},
   "outputs": [
    {
     "data": {
      "text/plain": [
       "9"
      ]
     },
     "execution_count": 7,
     "metadata": {},
     "output_type": "execute_result"
    }
   ],
   "source": [
    "#Sample output\n",
    "#a(3,2)"
   ]
  },
  {
   "cell_type": "code",
   "execution_count": 8,
   "id": "c11c59b8-df0e-48ad-8641-77b22eba1e71",
   "metadata": {},
   "outputs": [
    {
     "data": {
      "text/plain": [
       "6561"
      ]
     },
     "execution_count": 8,
     "metadata": {},
     "output_type": "execute_result"
    }
   ],
   "source": [
    "#Sample output\n",
    "a(9,4)"
   ]
  },
  {
   "cell_type": "code",
   "execution_count": 13,
   "id": "34909804-4994-4156-af97-cc0a119e415c",
   "metadata": {},
   "outputs": [],
   "source": [
    "#Compare the value of variable x,y and return maximum value.\n",
    "\n",
    "\n",
    "#Q3. write your code here"
   ]
  },
  {
   "cell_type": "code",
   "execution_count": 14,
   "id": "225d4d12-cbfc-4089-9e2a-ac5215102234",
   "metadata": {},
   "outputs": [
    {
     "data": {
      "text/plain": [
       "56"
      ]
     },
     "execution_count": 14,
     "metadata": {},
     "output_type": "execute_result"
    }
   ],
   "source": [
    "#sample output\n",
    "max_two(4,56)"
   ]
  }
 ],
 "metadata": {
  "kernelspec": {
   "display_name": "Python 3 (ipykernel)",
   "language": "python",
   "name": "python3"
  },
  "language_info": {
   "codemirror_mode": {
    "name": "ipython",
    "version": 3
   },
   "file_extension": ".py",
   "mimetype": "text/x-python",
   "name": "python",
   "nbconvert_exporter": "python",
   "pygments_lexer": "ipython3",
   "version": "3.11.5"
  }
 },
 "nbformat": 4,
 "nbformat_minor": 5
}
