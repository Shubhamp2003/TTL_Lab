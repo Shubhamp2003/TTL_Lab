{
 "cells": [
  {
   "cell_type": "code",
   "execution_count": 1,
   "id": "c7bb53e7-8766-4c35-a8a6-2b11740efa92",
   "metadata": {},
   "outputs": [],
   "source": [
    "l = [1,2,3,4,45,5]"
   ]
  },
  {
   "cell_type": "code",
   "execution_count": 4,
   "id": "3152c13f-c53c-47f2-8372-5b72f68f42bb",
   "metadata": {},
   "outputs": [],
   "source": [
    "def test(l):\n",
    "    l1 = []\n",
    "    for i in l :\n",
    "        l1.append(i**2)\n",
    "    return l1\n",
    "        "
   ]
  },
  {
   "cell_type": "code",
   "execution_count": 5,
   "id": "04e32ff4-bd51-4c94-9a95-131f44c92006",
   "metadata": {},
   "outputs": [
    {
     "data": {
      "text/plain": [
       "[1, 4, 9, 16, 2025, 25]"
      ]
     },
     "execution_count": 5,
     "metadata": {},
     "output_type": "execute_result"
    }
   ],
   "source": [
    "test(l)"
   ]
  },
  {
   "cell_type": "code",
   "execution_count": 8,
   "id": "3ddc6543-018b-4e05-96c8-a28596c8750d",
   "metadata": {},
   "outputs": [],
   "source": [
    "def sq(x):\n",
    "    return x**2"
   ]
  },
  {
   "cell_type": "code",
   "execution_count": 10,
   "id": "7a758966-eb2e-48bd-a176-54e0dce1fd98",
   "metadata": {},
   "outputs": [
    {
     "data": {
      "text/plain": [
       "[1, 4, 9, 16, 2025, 25]"
      ]
     },
     "execution_count": 10,
     "metadata": {},
     "output_type": "execute_result"
    }
   ],
   "source": [
    "Q4.Write a one line code for squaring the value in the list by using special functions.\n",
    "# Q4 . Write your code here \n"
   ]
  },
  {
   "cell_type": "code",
   "execution_count": 5,
   "id": "0e5172d1-93bd-42a9-a6ff-3673ac5c97fe",
   "metadata": {},
   "outputs": [],
   "source": [
    "l1 = [1,2,3,4,5]\n",
    "l2 = [6,7,8,9,10]"
   ]
  },
  {
   "cell_type": "code",
   "execution_count": 10,
   "id": "21e021e0-2067-4160-848c-b350f1260184",
   "metadata": {},
   "outputs": [
    {
     "name": "stdout",
     "output_type": "stream",
     "text": [
      "[7, 9, 11, 13, 15]\n"
     ]
    }
   ],
   "source": [
    "#Write a efficient code to add both the list and return the resultant list. \n",
    "# Q5 Write your code here.\n",
    "l3 = [1,2,3,4,5]\n",
    "for i in range(5):\n",
    "    l3[i] = l1[i] + l2[i]\n",
    "print(l3)"
   ]
  },
  {
   "cell_type": "code",
   "execution_count": 11,
   "id": "4b14f547-de37-485f-9b0b-feff5995d545",
   "metadata": {},
   "outputs": [],
   "source": [
    "s = \"abhiraj\"\n",
    "#Q6 . Write a code to convert this string into uppercase and store in list."
   ]
  },
  {
   "cell_type": "code",
   "execution_count": 22,
   "id": "b8aacad5",
   "metadata": {},
   "outputs": [
    {
     "name": "stdout",
     "output_type": "stream",
     "text": [
      "abhiraj\n"
     ]
    }
   ],
   "source": [
    "# Write your code here\n",
    "l = [ ]\n",
    "s.upper().split()\n",
    "print(s)"
   ]
  },
  {
   "cell_type": "code",
   "execution_count": 23,
   "id": "601736f1-5883-4de3-b5e7-0de044aadb95",
   "metadata": {},
   "outputs": [],
   "source": [
    "l = [1,2,3,4,5,4]"
   ]
  },
  {
   "cell_type": "code",
   "execution_count": 22,
   "id": "4c4de31e-e669-47b6-b185-bb1449331d50",
   "metadata": {},
   "outputs": [],
   "source": [
    "def add(x,y):\n",
    "    return x+y"
   ]
  },
  {
   "cell_type": "code",
   "execution_count": 24,
   "id": "2ad6ea19-76ac-47f4-98a4-d1e098a4489c",
   "metadata": {},
   "outputs": [
    {
     "data": {
      "text/plain": [
       "19"
      ]
     },
     "execution_count": 24,
     "metadata": {},
     "output_type": "execute_result"
    }
   ],
   "source": [
    "#Q7 Write a code to add the final value present in list by using special functions.\n",
    "\n",
    "# # Write your code here"
   ]
  },
  {
   "cell_type": "code",
   "execution_count": 26,
   "id": "4ecc4abc-2c96-470d-8c8a-d5bcd768d466",
   "metadata": {},
   "outputs": [
    {
     "data": {
      "text/plain": [
       "[1, 2, 3, 4, 5, 4]"
      ]
     },
     "execution_count": 26,
     "metadata": {},
     "output_type": "execute_result"
    }
   ],
   "source": [
    "l"
   ]
  },
  {
   "cell_type": "code",
   "execution_count": 31,
   "id": "a257a87f-08c7-492c-afd9-a90f1cbb7d56",
   "metadata": {},
   "outputs": [
    {
     "data": {
      "text/plain": [
       "5"
      ]
     },
     "execution_count": 31,
     "metadata": {},
     "output_type": "execute_result"
    }
   ],
   "source": [
    "## Q8 Write a one line efficient code to find the greatest number present in list ."
   ]
  },
  {
   "cell_type": "code",
   "execution_count": 18,
   "id": "5833c6a3-6d0b-4766-80fd-02494e57f951",
   "metadata": {},
   "outputs": [],
   "source": [
    "l = [1,2,3,4,5,4]"
   ]
  },
  {
   "cell_type": "code",
   "execution_count": 19,
   "id": "3e5ee63c-df8d-4ca2-8c7e-c187a97df649",
   "metadata": {},
   "outputs": [
    {
     "name": "stdout",
     "output_type": "stream",
     "text": [
      "2\n",
      "4\n",
      "4\n"
     ]
    }
   ],
   "source": [
    "## Q8 Find the even value present in above list\n",
    "## Write your code here\n",
    "for i in l:\n",
    "    if(i%2==0):\n",
    "        print(i)\n",
    "#sample output"
   ]
  },
  {
   "cell_type": "code",
   "execution_count": 20,
   "id": "5886b6c8-c840-46c4-ac12-b429aacc55b5",
   "metadata": {},
   "outputs": [
    {
     "name": "stdout",
     "output_type": "stream",
     "text": [
      "1\n",
      "3\n",
      "5\n"
     ]
    }
   ],
   "source": [
    "## Q9 Find the odd value present in above list(l).\n",
    "## Write your code here\n",
    "for i in l:\n",
    "    if(i%2!=0):\n",
    "        print(i)\n",
    "#sample output"
   ]
  },
  {
   "cell_type": "code",
   "execution_count": 36,
   "id": "9029e86d-db6d-4393-ac40-7f2d287ae585",
   "metadata": {},
   "outputs": [],
   "source": [
    "l1 = [-2,4,5,6,-3,-6,-7]"
   ]
  },
  {
   "cell_type": "code",
   "execution_count": 21,
   "id": "6b079de0-59bd-4b38-82e3-cb500752ac41",
   "metadata": {},
   "outputs": [],
   "source": [
    "## Q9 Find the negative value present in above list(l1).\n",
    "## Write your code here\n",
    "for i in l:\n",
    "    if(i<0):\n",
    "        print(i)\n",
    "#sample output"
   ]
  },
  {
   "cell_type": "code",
   "execution_count": 40,
   "id": "37919dae-d4d7-4bab-a1e4-f6cb9d58e251",
   "metadata": {},
   "outputs": [],
   "source": [
    "l2 = [\"abhi\" , \"raj\" , \"kumar\" , \"bengalore\" , \"shekhar\"]\n",
    "\n",
    "##Q10 Filter out the string with lenght is less than and equal to six from the above list and return in list.\n",
    "\n",
    "## Write your code here\n",
    "\n"
   ]
  }
 ],
 "metadata": {
  "kernelspec": {
   "display_name": "Python 3 (ipykernel)",
   "language": "python",
   "name": "python3"
  },
  "language_info": {
   "codemirror_mode": {
    "name": "ipython",
    "version": 3
   },
   "file_extension": ".py",
   "mimetype": "text/x-python",
   "name": "python",
   "nbconvert_exporter": "python",
   "pygments_lexer": "ipython3",
   "version": "3.11.5"
  }
 },
 "nbformat": 4,
 "nbformat_minor": 5
}
