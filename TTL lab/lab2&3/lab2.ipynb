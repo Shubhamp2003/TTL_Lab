{
 "cells": [
  {
   "cell_type": "code",
   "execution_count": 1,
   "id": "4f9ff088",
   "metadata": {},
   "outputs": [],
   "source": [
    "# 1.Write a program to find the number of occurence of each letter present in the given string.\n",
    "# 2.WAP to find the number of occurence of each vowel present in the given string.\n",
    "# 3.Write a function to find factorial of a given number.(1-5)-->(1,2,6,24,120)\n",
    "# 4.Write a function to find the factorial of a given number with recursion.\n",
    "# 5.Write a program to create a lambda function to find a square of a given number.\n",
    "# 6.Write a lambda function to find the biggest of the given values.\n",
    "# 7.WAP to filter only even number from the list using filter function."
   ]
  },
  {
   "cell_type": "code",
   "execution_count": 3,
   "id": "0cf7d95d",
   "metadata": {},
   "outputs": [
    {
     "name": "stdout",
     "output_type": "stream",
     "text": [
      "Enter string: Encyclopedia\n",
      "{'E': 1, 'n': 1, 'c': 2, 'y': 1, 'l': 1, 'o': 1, 'p': 1, 'e': 1, 'd': 1, 'i': 1, 'a': 1}\n"
     ]
    }
   ],
   "source": [
    "def count_letters(string):\n",
    "    count_dict = {}\n",
    "    for letter in string:\n",
    "        if letter in count_dict:\n",
    "            count_dict[letter] += 1\n",
    "        else:\n",
    "            count_dict[letter] = 1\n",
    "    return count_dict\n",
    "\n",
    "string = input(\"Enter string: \")\n",
    "print(count_letters(string))\n"
   ]
  },
  {
   "cell_type": "code",
   "execution_count": 1,
   "id": "c5383c26",
   "metadata": {},
   "outputs": [
    {
     "name": "stdout",
     "output_type": "stream",
     "text": [
      "Enter the string: shubham\n",
      "No of vowel present in the string is  2\n"
     ]
    }
   ],
   "source": [
    "def count_vowels(string):\n",
    "    vowels = 'aeiouAEIOU'\n",
    "    count = 0\n",
    "    for letter in string:\n",
    "        if letter in vowels:\n",
    "            count += 1\n",
    "    return count\n",
    "\n",
    "string = input(\"Enter the string: \")\n",
    "print(\"No of vowel present in the string is \",count_vowels(string))\n"
   ]
  },
  {
   "cell_type": "code",
   "execution_count": 2,
   "id": "590a7a34",
   "metadata": {},
   "outputs": [
    {
     "name": "stdout",
     "output_type": "stream",
     "text": [
      "The factorial of 1 is 1\n",
      "The factorial of 2 is 2\n",
      "The factorial of 3 is 6\n",
      "The factorial of 4 is 24\n",
      "The factorial of 5 is 120\n"
     ]
    }
   ],
   "source": [
    "def factorial(n):\n",
    "    result = 1\n",
    "    for i in range(1, n + 1):\n",
    "        result *= i\n",
    "    return result\n",
    "\n",
    "for i in range(1, 6):\n",
    "    print(f\"The factorial of {i} is {factorial(i)}\")\n"
   ]
  },
  {
   "cell_type": "code",
   "execution_count": 3,
   "id": "fc241a4b",
   "metadata": {},
   "outputs": [
    {
     "name": "stdout",
     "output_type": "stream",
     "text": [
      "The factorial of 1 is 1\n",
      "The factorial of 2 is 2\n",
      "The factorial of 3 is 6\n",
      "The factorial of 4 is 24\n",
      "The factorial of 5 is 120\n"
     ]
    }
   ],
   "source": [
    "def factorial(n):\n",
    "    if n == 1:\n",
    "        return 1\n",
    "    else:\n",
    "        return n * factorial(n-1)\n",
    "    \n",
    "for i in range(1, 6):\n",
    "    print(f\"The factorial of {i} is {factorial(i)}\")\n"
   ]
  },
  {
   "cell_type": "code",
   "execution_count": 5,
   "id": "a733eaa9",
   "metadata": {},
   "outputs": [
    {
     "name": "stdout",
     "output_type": "stream",
     "text": [
      "Square =  25\n"
     ]
    }
   ],
   "source": [
    "square = lambda x: x ** 2\n",
    "\n",
    "print(\"Square = \",square(5)) "
   ]
  },
  {
   "cell_type": "code",
   "execution_count": 10,
   "id": "9397b564",
   "metadata": {},
   "outputs": [
    {
     "name": "stdout",
     "output_type": "stream",
     "text": [
      "Biggest =  20\n"
     ]
    }
   ],
   "source": [
    "find_max = lambda *args: max(args)\n",
    "print(\"Biggest = \",find_max(5, 10, 15, 20))"
   ]
  },
  {
   "cell_type": "code",
   "execution_count": 11,
   "id": "c7708a04",
   "metadata": {},
   "outputs": [
    {
     "name": "stdout",
     "output_type": "stream",
     "text": [
      "[2, 4, 6, 8, 10]\n"
     ]
    }
   ],
   "source": [
    "numbers = [1, 2, 3, 4, 5, 6, 7, 8, 9, 10]\n",
    "\n",
    "even_numbers = list(filter(lambda x: x % 2 == 0, numbers))\n",
    "\n",
    "print(even_numbers)  \n"
   ]
  }
 ],
 "metadata": {
  "kernelspec": {
   "display_name": "Python 3 (ipykernel)",
   "language": "python",
   "name": "python3"
  },
  "language_info": {
   "codemirror_mode": {
    "name": "ipython",
    "version": 3
   },
   "file_extension": ".py",
   "mimetype": "text/x-python",
   "name": "python",
   "nbconvert_exporter": "python",
   "pygments_lexer": "ipython3",
   "version": "3.11.5"
  }
 },
 "nbformat": 4,
 "nbformat_minor": 5
}
