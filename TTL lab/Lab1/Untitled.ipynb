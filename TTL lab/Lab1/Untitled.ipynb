{
 "cells": [
  {
   "cell_type": "code",
   "execution_count": 6,
   "id": "68310d29",
   "metadata": {},
   "outputs": [
    {
     "name": "stdout",
     "output_type": "stream",
     "text": [
      "Enter the string Abhiraj\n",
      "jarihbA\n"
     ]
    }
   ],
   "source": [
    "s = input(\"Enter the string \")\n",
    "i = len(s)-1\n",
    "str=\"\"\n",
    "while i>=0:\n",
    "    str= str+s[i]\n",
    "    i = i-1\n",
    "print(str)\n"
   ]
  },
  {
   "cell_type": "code",
   "execution_count": null,
   "id": "ee28a487",
   "metadata": {},
   "outputs": [],
   "source": [
    "# Write a program to reverse a internal content of each word"
   ]
  },
  {
   "cell_type": "code",
   "execution_count": 5,
   "id": "87253c11",
   "metadata": {},
   "outputs": [
    {
     "name": "stdout",
     "output_type": "stream",
     "text": [
      "Enter the string: Dinesh is a bad boy\n",
      "hseniD si a dab yob\n"
     ]
    }
   ],
   "source": [
    "s= input(\"Enter the string: \")\n",
    "l = s.split()\n",
    "l1 = []\n",
    "i=0\n",
    "while i<len(l):\n",
    "    l1.append(l[i][::-1])\n",
    "    i = i+1\n",
    "    \n",
    "output = \" \".join(l1)\n",
    "print(output)\n"
   ]
  },
  {
   "cell_type": "code",
   "execution_count": 8,
   "id": "a2f377c8",
   "metadata": {},
   "outputs": [],
   "source": [
    "# write a program to remove duplicate character from a given input string\n",
    "# WAP to find number of occurence of each character in the given string"
   ]
  },
  {
   "cell_type": "code",
   "execution_count": 11,
   "id": "2df6181b",
   "metadata": {},
   "outputs": [
    {
     "name": "stdout",
     "output_type": "stream",
     "text": [
      "Enter string: wandering\n",
      "{'w': 1, 'a': 1, 'n': 2, 'd': 1, 'e': 1, 'r': 1, 'i': 1, 'g': 1}\n"
     ]
    }
   ],
   "source": [
    "def count_letters(string):\n",
    "    count_dict = {}\n",
    "    for letter in string:\n",
    "        if letter in count_dict:\n",
    "            count_dict[letter] += 1\n",
    "        else:\n",
    "            count_dict[letter] = 1\n",
    "    return count_dict\n",
    "\n",
    "string = input(\"Enter string: \")\n",
    "print(count_letters(string))\n"
   ]
  },
  {
   "cell_type": "code",
   "execution_count": 12,
   "id": "c5e14312",
   "metadata": {},
   "outputs": [
    {
     "name": "stdout",
     "output_type": "stream",
     "text": [
      "Helo, Wrd!\n"
     ]
    }
   ],
   "source": [
    "def remove_duplicates(string):\n",
    "    result = \"\"\n",
    "    for char in string:\n",
    "        if char not in result:\n",
    "            result += char\n",
    "    return result\n",
    "\n",
    "string = \"Hello, World!\"\n",
    "print(remove_duplicates(string))"
   ]
  },
  {
   "cell_type": "code",
   "execution_count": 3,
   "id": "5688e89a",
   "metadata": {},
   "outputs": [
    {
     "name": "stdout",
     "output_type": "stream",
     "text": [
      "Hello Python\n",
      "Hello Python\n",
      "Hello Python\n"
     ]
    }
   ],
   "source": [
    "def Hello():\n",
    "    print(\"Hello Python\")\n",
    "Hello()\n",
    "Hello()\n",
    "Hello()"
   ]
  },
  {
   "cell_type": "code",
   "execution_count": 7,
   "id": "6cae6b69",
   "metadata": {},
   "outputs": [],
   "source": [
    "#WAP to evaluate a fibonacci serries using recursion"
   ]
  },
  {
   "cell_type": "code",
   "execution_count": 17,
   "id": "7ec6cf1f",
   "metadata": {
    "scrolled": true
   },
   "outputs": [
    {
     "name": "stdout",
     "output_type": "stream",
     "text": [
      "Enter the no of term: 5\n",
      "Input should be a positive integer.\n",
      "0\n",
      "1\n",
      "1\n",
      "2\n",
      "3\n"
     ]
    }
   ],
   "source": [
    "def fibonacci(n):\n",
    "    if n <= 0:\n",
    "        return \"Input should be a positive integer.\"\n",
    "    elif n == 1:\n",
    "        return 0\n",
    "    elif n == 2:\n",
    "        return 1\n",
    "    else:\n",
    "        return fibonacci(n-1) + fibonacci(n-2)\n",
    "\n",
    "n = int(input(\"Enter the no of term: \"))\n",
    "for i in range (n+1):\n",
    "    print(fibonacci(i))  \n"
   ]
  },
  {
   "cell_type": "code",
   "execution_count": 10,
   "id": "077bc94c",
   "metadata": {},
   "outputs": [],
   "source": [
    "# find summation 1/n ranges from n = 1 to infinity using recursion\n",
    "# GCD of two number using recursion"
   ]
  },
  {
   "cell_type": "code",
   "execution_count": 15,
   "id": "cff811d6",
   "metadata": {},
   "outputs": [
    {
     "name": "stdout",
     "output_type": "stream",
     "text": [
      "Enter First number: 36\n",
      "Enter Second number: 4\n",
      "GCD of 36 and 4 is:  4\n"
     ]
    }
   ],
   "source": [
    "def GCD(a, b):\n",
    "    if b == 0:\n",
    "        return a\n",
    "    else:\n",
    "        return gcd(b, a % b)\n",
    "\n",
    "a = int(input(\"Enter First number: \"))\n",
    "b = int(input(\"Enter Second number: \"))\n",
    "print(\"GCD of\", a ,\"and\", b ,\"is: \",GCD(a, b))\n"
   ]
  },
  {
   "cell_type": "code",
   "execution_count": null,
   "id": "ef2053d7",
   "metadata": {},
   "outputs": [],
   "source": []
  }
 ],
 "metadata": {
  "kernelspec": {
   "display_name": "Python 3 (ipykernel)",
   "language": "python",
   "name": "python3"
  },
  "language_info": {
   "codemirror_mode": {
    "name": "ipython",
    "version": 3
   },
   "file_extension": ".py",
   "mimetype": "text/x-python",
   "name": "python",
   "nbconvert_exporter": "python",
   "pygments_lexer": "ipython3",
   "version": "3.11.5"
  }
 },
 "nbformat": 4,
 "nbformat_minor": 5
}
